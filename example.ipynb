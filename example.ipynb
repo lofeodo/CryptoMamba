{
  "cells": [
    {
      "cell_type": "markdown",
      "metadata": {
        "colab_type": "text",
        "id": "view-in-github"
      },
      "source": [
        "<a href=\"https://colab.research.google.com/github/MShahabSepehri/CryptoMamba/blob/main/example.ipynb\" target=\"_parent\"><img src=\"https://colab.research.google.com/assets/colab-badge.svg\" alt=\"Open In Colab\"/></a>"
      ]
    },
    {
      "cell_type": "code",
      "execution_count": 1,
      "metadata": {
        "cellView": "form",
        "colab": {
          "base_uri": "https://localhost:8080/"
        },
        "id": "WCqI8zrlp99U",
        "outputId": "9d14221b-d515-497a-9faf-d1d8dd2e81d7"
      },
      "outputs": [
        {
          "name": "stdout",
          "output_type": "stream",
          "text": [
            "fatal: destination path 'CryptoMamba' already exists and is not an empty directory.\n",
            "/content/CryptoMamba\n"
          ]
        }
      ],
      "source": [
        "# @title Cloning\n",
        "!git clone https://github.com/MShahabSepehri/CryptoMamba.git\n",
        "%cd CryptoMamba/"
      ]
    },
    {
      "cell_type": "code",
      "execution_count": 2,
      "metadata": {
        "cellView": "form",
        "id": "QoSiNMCtqGj5"
      },
      "outputs": [],
      "source": [
        "# @title Installing requirements\n",
        "\n",
        "%%capture\n",
        "!pip install mamba-ssm[causal-conv1d] --no-build-isolation\n",
        "!pip install -r requirements.txt"
      ]
    },
    {
      "cell_type": "code",
      "execution_count": 3,
      "metadata": {
        "colab": {
          "base_uri": "https://localhost:8080/"
        },
        "id": "lAU_41CEeho4",
        "outputId": "11f32408-e116-4e99-c454-19252a8a7787"
      },
      "outputs": [
        {
          "name": "stdout",
          "output_type": "stream",
          "text": [
            "['Timestamp', 'Open', 'High', 'Low', 'Close', 'Volume']\n",
            "['Timestamp', 'Open', 'High', 'Low', 'Close', 'Volume']\n",
            "['Timestamp', 'Open', 'High', 'Low', 'Close', 'Volume']\n",
            "\n",
            "Prediction date: 2024-12-15\n",
            "Prediction: 102174.26\n",
            "Today value: 101372.97\n",
            "Smart trade: 39.21% buy\n",
            "Vanilla trade: -\n"
          ]
        }
      ],
      "source": [
        "# @title Prediction\n",
        "!python scripts/one_day_pred.py --config cmamba_v --ckpt_path ./checkpoints/cmamba_v.ckpt --date 2024-12-15"
      ]
    },
    {
      "cell_type": "code",
      "execution_count": null,
      "metadata": {
        "id": "fVSOA2b_ssQq"
      },
      "outputs": [],
      "source": [
        "# @title Training\n",
        "!python scripts/training.py --config cmamba_v"
      ]
    },
    {
      "cell_type": "markdown",
      "metadata": {},
      "source": [
        "## Testing"
      ]
    },
    {
      "cell_type": "code",
      "execution_count": 1,
      "metadata": {},
      "outputs": [],
      "source": [
        "import pandas as pd"
      ]
    },
    {
      "cell_type": "code",
      "execution_count": null,
      "metadata": {},
      "outputs": [
        {
          "name": "stderr",
          "output_type": "stream",
          "text": [
            "/home/lofeodo/miniconda3/envs/cryptomamba/lib/python3.11/site-packages/tqdm/auto.py:21: TqdmWarning: IProgress not found. Please update jupyter and ipywidgets. See https://ipywidgets.readthedocs.io/en/stable/user_install.html\n",
            "  from .autonotebook import tqdm as notebook_tqdm\n"
          ]
        }
      ],
      "source": [
        "from scripts.one_day_pred import get_preds\n",
        "\n",
        "preds, today, pred_date = get_preds(config=\"cmamba_v\", use_volume=False, ckpt_path=\"checkpoints/cmamba_v.ckpt\", data=pd.read_csv(\"data/one_day_pred.csv\"))\n",
        "\n",
        "preds"
      ]
    }
  ],
  "metadata": {
    "accelerator": "GPU",
    "colab": {
      "gpuType": "T4",
      "include_colab_link": true,
      "provenance": []
    },
    "kernelspec": {
      "display_name": "cryptomamba",
      "language": "python",
      "name": "python3"
    },
    "language_info": {
      "codemirror_mode": {
        "name": "ipython",
        "version": 3
      },
      "file_extension": ".py",
      "mimetype": "text/x-python",
      "name": "python",
      "nbconvert_exporter": "python",
      "pygments_lexer": "ipython3",
      "version": "3.11.13"
    }
  },
  "nbformat": 4,
  "nbformat_minor": 0
}
